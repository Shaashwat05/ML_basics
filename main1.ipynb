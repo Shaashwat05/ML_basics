{
 "cells": [
  {
   "cell_type": "code",
   "execution_count": 1,
   "metadata": {},
   "outputs": [],
   "source": [
    "import pandas as pd\n",
    "import numpy as np\n",
    "import math\n",
    "from scipy.stats import pearsonr\n",
    "from sklearn.preprocessing import MinMaxScaler"
   ]
  },
  {
   "cell_type": "code",
   "execution_count": 2,
   "metadata": {},
   "outputs": [],
   "source": [
    "dataframe = pd.read_csv(\"QSAR_fish_BCF/QSAR_BCF_Kow.csv\")"
   ]
  },
  {
   "cell_type": "code",
   "execution_count": 3,
   "metadata": {},
   "outputs": [],
   "source": [
    "data=dataframe.iloc[:,[0,3,5]].to_numpy()"
   ]
  },
  {
   "cell_type": "code",
   "execution_count": 4,
   "metadata": {},
   "outputs": [],
   "source": [
    "for i in range(data.shape[0]):\n",
    "    if data[i,0][:8]==\"V-Mey_NA\":\n",
    "        data[i,1]=float(\"Nan\")"
   ]
  },
  {
   "cell_type": "code",
   "execution_count": 5,
   "metadata": {
    "tags": [
     "outputPrepend"
    ]
   },
   "outputs": [],
   "source": [
    "sum1=0.0\n",
    "sum2=0.0\n",
    "n1=0\n",
    "n2=0\n",
    "for i in range(data.shape[0]):\n",
    "    if not math.isnan(data[i,1]):\n",
    "        sum1+=data[i,1]\n",
    "        n1+=1\n",
    "    if not math.isnan(data[i,2]):\n",
    "        sum2+=data[i,2]\n",
    "        n2+=1\n",
    "for i in range(data.shape[0]):\n",
    "    if math.isnan(data[i,1]):\n",
    "        data[i,1]=sum1/n1\n",
    "    if math.isnan(data[i,2]):\n",
    "        data[i,2]=sum2/n2"
   ]
  },
  {
   "cell_type": "code",
   "execution_count": 6,
   "metadata": {},
   "outputs": [],
   "source": [
    "data=data[:,1:]"
   ]
  },
  {
   "cell_type": "code",
   "execution_count": 7,
   "metadata": {},
   "outputs": [
    {
     "output_type": "stream",
     "name": "stdout",
     "text": "Correlation Coefficient = 0.664\n"
    }
   ],
   "source": [
    "corrcoef,_=pearsonr(data[:,0],data[:,1])\n",
    "print(\"Correlation Coefficient = %.3f\"%corrcoef)"
   ]
  },
  {
   "cell_type": "code",
   "execution_count": 8,
   "metadata": {},
   "outputs": [],
   "source": [
    "sc=MinMaxScaler()\n",
    "data=sc.fit_transform(data)"
   ]
  },
  {
   "cell_type": "code",
   "execution_count": null,
   "metadata": {},
   "outputs": [],
   "source": []
  }
 ],
 "metadata": {
  "language_info": {
   "codemirror_mode": {
    "name": "ipython",
    "version": 3
   },
   "file_extension": ".py",
   "mimetype": "text/x-python",
   "name": "python",
   "nbconvert_exporter": "python",
   "pygments_lexer": "ipython3",
   "version": "3.8.2-final"
  },
  "orig_nbformat": 2,
  "kernelspec": {
   "name": "python38264bit9d2c145480604d93aae1bfd933aee138",
   "display_name": "Python 3.8.2 64-bit"
  }
 },
 "nbformat": 4,
 "nbformat_minor": 2
}